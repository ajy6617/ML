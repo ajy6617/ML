{
 "cells": [
  {
   "cell_type": "code",
   "execution_count": 3,
   "metadata": {},
   "outputs": [],
   "source": [
    "import sklearn\n",
    "from sklearn import linear_model\n",
    "from sklearn.utils import shuffle"
   ]
  },
  {
   "cell_type": "code",
   "execution_count": 7,
   "metadata": {},
   "outputs": [],
   "source": [
    "data = pd.read_csv(\"/Users/JaeYoung/Downloads/student/student-mat.csv\", sep=\";\")"
   ]
  },
  {
   "cell_type": "code",
   "execution_count": 9,
   "metadata": {},
   "outputs": [
    {
     "data": {
      "text/html": [
       "<div>\n",
       "<style scoped>\n",
       "    .dataframe tbody tr th:only-of-type {\n",
       "        vertical-align: middle;\n",
       "    }\n",
       "\n",
       "    .dataframe tbody tr th {\n",
       "        vertical-align: top;\n",
       "    }\n",
       "\n",
       "    .dataframe thead th {\n",
       "        text-align: right;\n",
       "    }\n",
       "</style>\n",
       "<table border=\"1\" class=\"dataframe\">\n",
       "  <thead>\n",
       "    <tr style=\"text-align: right;\">\n",
       "      <th></th>\n",
       "      <th>school</th>\n",
       "      <th>sex</th>\n",
       "      <th>age</th>\n",
       "      <th>address</th>\n",
       "      <th>famsize</th>\n",
       "      <th>Pstatus</th>\n",
       "      <th>Medu</th>\n",
       "      <th>Fedu</th>\n",
       "      <th>Mjob</th>\n",
       "      <th>Fjob</th>\n",
       "      <th>...</th>\n",
       "      <th>famrel</th>\n",
       "      <th>freetime</th>\n",
       "      <th>goout</th>\n",
       "      <th>Dalc</th>\n",
       "      <th>Walc</th>\n",
       "      <th>health</th>\n",
       "      <th>absences</th>\n",
       "      <th>G1</th>\n",
       "      <th>G2</th>\n",
       "      <th>G3</th>\n",
       "    </tr>\n",
       "  </thead>\n",
       "  <tbody>\n",
       "    <tr>\n",
       "      <th>0</th>\n",
       "      <td>GP</td>\n",
       "      <td>F</td>\n",
       "      <td>18</td>\n",
       "      <td>U</td>\n",
       "      <td>GT3</td>\n",
       "      <td>A</td>\n",
       "      <td>4</td>\n",
       "      <td>4</td>\n",
       "      <td>at_home</td>\n",
       "      <td>teacher</td>\n",
       "      <td>...</td>\n",
       "      <td>4</td>\n",
       "      <td>3</td>\n",
       "      <td>4</td>\n",
       "      <td>1</td>\n",
       "      <td>1</td>\n",
       "      <td>3</td>\n",
       "      <td>6</td>\n",
       "      <td>5</td>\n",
       "      <td>6</td>\n",
       "      <td>6</td>\n",
       "    </tr>\n",
       "    <tr>\n",
       "      <th>1</th>\n",
       "      <td>GP</td>\n",
       "      <td>F</td>\n",
       "      <td>17</td>\n",
       "      <td>U</td>\n",
       "      <td>GT3</td>\n",
       "      <td>T</td>\n",
       "      <td>1</td>\n",
       "      <td>1</td>\n",
       "      <td>at_home</td>\n",
       "      <td>other</td>\n",
       "      <td>...</td>\n",
       "      <td>5</td>\n",
       "      <td>3</td>\n",
       "      <td>3</td>\n",
       "      <td>1</td>\n",
       "      <td>1</td>\n",
       "      <td>3</td>\n",
       "      <td>4</td>\n",
       "      <td>5</td>\n",
       "      <td>5</td>\n",
       "      <td>6</td>\n",
       "    </tr>\n",
       "    <tr>\n",
       "      <th>2</th>\n",
       "      <td>GP</td>\n",
       "      <td>F</td>\n",
       "      <td>15</td>\n",
       "      <td>U</td>\n",
       "      <td>LE3</td>\n",
       "      <td>T</td>\n",
       "      <td>1</td>\n",
       "      <td>1</td>\n",
       "      <td>at_home</td>\n",
       "      <td>other</td>\n",
       "      <td>...</td>\n",
       "      <td>4</td>\n",
       "      <td>3</td>\n",
       "      <td>2</td>\n",
       "      <td>2</td>\n",
       "      <td>3</td>\n",
       "      <td>3</td>\n",
       "      <td>10</td>\n",
       "      <td>7</td>\n",
       "      <td>8</td>\n",
       "      <td>10</td>\n",
       "    </tr>\n",
       "  </tbody>\n",
       "</table>\n",
       "<p>3 rows × 33 columns</p>\n",
       "</div>"
      ],
      "text/plain": [
       "  school sex  age address famsize Pstatus  Medu  Fedu     Mjob     Fjob  ...  \\\n",
       "0     GP   F   18       U     GT3       A     4     4  at_home  teacher  ...   \n",
       "1     GP   F   17       U     GT3       T     1     1  at_home    other  ...   \n",
       "2     GP   F   15       U     LE3       T     1     1  at_home    other  ...   \n",
       "\n",
       "  famrel freetime  goout  Dalc  Walc health absences G1 G2  G3  \n",
       "0      4        3      4     1     1      3        6  5  6   6  \n",
       "1      5        3      3     1     1      3        4  5  5   6  \n",
       "2      4        3      2     2     3      3       10  7  8  10  \n",
       "\n",
       "[3 rows x 33 columns]"
      ]
     },
     "execution_count": 9,
     "metadata": {},
     "output_type": "execute_result"
    }
   ],
   "source": [
    "data.head(3)"
   ]
  },
  {
   "cell_type": "code",
   "execution_count": 10,
   "metadata": {},
   "outputs": [],
   "source": [
    "data = data[[\"G1\",\"G2\",\"G3\",\"studytime\",\"failures\",\"absences\"]] #원하는거만 뽑아내기!!!"
   ]
  },
  {
   "cell_type": "code",
   "execution_count": 12,
   "metadata": {},
   "outputs": [
    {
     "data": {
      "text/html": [
       "<div>\n",
       "<style scoped>\n",
       "    .dataframe tbody tr th:only-of-type {\n",
       "        vertical-align: middle;\n",
       "    }\n",
       "\n",
       "    .dataframe tbody tr th {\n",
       "        vertical-align: top;\n",
       "    }\n",
       "\n",
       "    .dataframe thead th {\n",
       "        text-align: right;\n",
       "    }\n",
       "</style>\n",
       "<table border=\"1\" class=\"dataframe\">\n",
       "  <thead>\n",
       "    <tr style=\"text-align: right;\">\n",
       "      <th></th>\n",
       "      <th>G1</th>\n",
       "      <th>G2</th>\n",
       "      <th>G3</th>\n",
       "      <th>studytime</th>\n",
       "      <th>failures</th>\n",
       "      <th>absences</th>\n",
       "    </tr>\n",
       "  </thead>\n",
       "  <tbody>\n",
       "    <tr>\n",
       "      <th>0</th>\n",
       "      <td>5</td>\n",
       "      <td>6</td>\n",
       "      <td>6</td>\n",
       "      <td>2</td>\n",
       "      <td>0</td>\n",
       "      <td>6</td>\n",
       "    </tr>\n",
       "    <tr>\n",
       "      <th>1</th>\n",
       "      <td>5</td>\n",
       "      <td>5</td>\n",
       "      <td>6</td>\n",
       "      <td>2</td>\n",
       "      <td>0</td>\n",
       "      <td>4</td>\n",
       "    </tr>\n",
       "    <tr>\n",
       "      <th>2</th>\n",
       "      <td>7</td>\n",
       "      <td>8</td>\n",
       "      <td>10</td>\n",
       "      <td>2</td>\n",
       "      <td>3</td>\n",
       "      <td>10</td>\n",
       "    </tr>\n",
       "  </tbody>\n",
       "</table>\n",
       "</div>"
      ],
      "text/plain": [
       "   G1  G2  G3  studytime  failures  absences\n",
       "0   5   6   6          2         0         6\n",
       "1   5   5   6          2         0         4\n",
       "2   7   8  10          2         3        10"
      ]
     },
     "execution_count": 12,
     "metadata": {},
     "output_type": "execute_result"
    }
   ],
   "source": [
    "data.head(3)"
   ]
  },
  {
   "cell_type": "code",
   "execution_count": 16,
   "metadata": {},
   "outputs": [],
   "source": [
    "predict = \"G3\"\n",
    "\n",
    "X = np.array(data.drop([predict], 1)) #G3만 빼내고 저장\n",
    "Y = np.array(data[predict]) #G3만 저장"
   ]
  },
  {
   "cell_type": "code",
   "execution_count": 20,
   "metadata": {},
   "outputs": [],
   "source": [
    "x_train, x_test, y_train, y_test = sklearn.model_selection.train_test_split(X, Y, test_size = 0.1)"
   ]
  },
  {
   "cell_type": "code",
   "execution_count": 21,
   "metadata": {},
   "outputs": [
    {
     "data": {
      "text/plain": [
       "0.7556884994342753"
      ]
     },
     "execution_count": 21,
     "metadata": {},
     "output_type": "execute_result"
    }
   ],
   "source": [
    "linear = linear_model.LinearRegression()\n",
    "linear.fit(x_train, y_train) # fit this data to find best line\n",
    "acc = linear.score(x_test, y_test) # accuracy of our model\n",
    "acc #이거 그 linear한거랑 같이 적으면 되겠다. 직접하는 거랑 sklearn바로 이용하는거!!"
   ]
  },
  {
   "cell_type": "code",
   "execution_count": 23,
   "metadata": {},
   "outputs": [
    {
     "data": {
      "text/plain": [
       "array([ 0.1291862 ,  0.99219012, -0.07885655, -0.29189863,  0.03136232])"
      ]
     },
     "execution_count": 23,
     "metadata": {},
     "output_type": "execute_result"
    }
   ],
   "source": [
    "linear.coef_ #Coefficient y=Mx+b에서 M임!!!!"
   ]
  },
  {
   "cell_type": "code",
   "execution_count": 24,
   "metadata": {},
   "outputs": [
    {
     "data": {
      "text/plain": [
       "-1.4895500313278678"
      ]
     },
     "execution_count": 24,
     "metadata": {},
     "output_type": "execute_result"
    }
   ],
   "source": [
    "linear.intercept_ #Intercept"
   ]
  },
  {
   "cell_type": "code",
   "execution_count": 25,
   "metadata": {},
   "outputs": [
    {
     "name": "stdout",
     "output_type": "stream",
     "text": [
      "14.757296054940769 [13 15  4  0  0] 15\n",
      "12.644541714913723 [13 12  1  0 20] 12\n",
      "5.1968062480148935 [ 6  6  2  1 13] 8\n",
      "12.8517723717097 [13 13  3  0  0] 13\n",
      "7.766556739623354 [ 9  8  2  0 10] 8\n",
      "6.123514503092848 [7 7 3 0 0] 8\n",
      "7.479657446986607 [ 8  8  4  0 10] 8\n",
      "15.487004724127788 [15 15  2  0 10] 15\n",
      "8.029038186323914 [7 9 4 0 0] 0\n",
      "18.615465519391265 [18 18  3  0  5] 19\n",
      "8.1867512834121 [7 9 2 0 0] 8\n",
      "17.823844301300582 [17 17  2  0 13] 17\n",
      "8.153225047021095 [9 9 2 1 0] 0\n",
      "8.55160561800561 [8 9 1 0 5] 9\n",
      "9.7080811706898 [10 10  1  0  2] 10\n",
      "14.148927602550994 [15 14  4  0  4] 14\n",
      "7.323747363073084 [8 8 2 0 0] 0\n",
      "-0.8218163081202107 [7 0 3 0 0] 0\n",
      "10.781061745094691 [11 11  4  0  8] 10\n",
      "8.416596772969601 [10  9  4  0  0] 0\n",
      "8.570572946909909 [9 9 2 0 4] 10\n",
      "11.597472941577118 [10 12  3  0  4] 12\n",
      "6.852332893031923 [6 8 1 1 0] 8\n",
      "15.090788071434106 [14 15  3  0  4] 16\n",
      "-0.8721459551246804 [6 0 2 0 0] 0\n",
      "4.818294512522009 [8 6 2 2 2] 5\n",
      "16.47427369711525 [18 16  3  0  0] 16\n",
      "-0.7932894065805881 [6 0 1 0 0] 0\n",
      "11.3977161310769 [12 11  1  0 16] 11\n",
      "13.185264388203038 [14 13  2  0  4] 13\n",
      "19.077164032894572 [18 18  1  1 24] 18\n",
      "12.993353556454133 [13 13  2  0  2] 13\n",
      "6.060492893963011 [5 8 2 3 0] 7\n",
      "12.80144272470523 [12 13  2  0  0] 13\n",
      "12.65575248435736 [16 12  1  0  8] 13\n",
      "5.903888857101 [ 8  6  2  0 18] 7\n",
      "11.75892296181318 [11 12  1  0  0] 10\n",
      "11.118290684735909 [13 11  3  0  8] 11\n",
      "9.780135371207852 [11 10  2  1 12] 10\n",
      "4.335966245966708 [ 5  5  2  0 12] 5\n"
     ]
    }
   ],
   "source": [
    "predictions = linear.predict(x_test)\n",
    "for x in range(len(predictions)):\n",
    "    print(predictions[x], x_test[x], y_test[x])"
   ]
  },
  {
   "cell_type": "code",
   "execution_count": 28,
   "metadata": {},
   "outputs": [],
   "source": [
    "import pickle\n",
    "from matplotlib import style"
   ]
  },
  {
   "cell_type": "code",
   "execution_count": 29,
   "metadata": {},
   "outputs": [],
   "source": [
    "with open(\"studentmodel.pickle\", \"wb\") as f:\n",
    "    pickle.dump(linear, f) #pickle로 모델을 저장!!!!(다시 매번 만들필요없이)\n",
    "\n",
    "pickle_in = open(\"studentmodel.pickle\",\"rb\")\n",
    "linear = pickle.load(pickle_in)"
   ]
  },
  {
   "cell_type": "code",
   "execution_count": 32,
   "metadata": {},
   "outputs": [
    {
     "name": "stdout",
     "output_type": "stream",
     "text": [
      "0.8236825086400429\n",
      "0.9188182879938791\n",
      "0.8749635423311135\n",
      "0.8006787761852637\n",
      "0.8266726573787855\n",
      "0.8606914532995569\n",
      "0.8855418603834405\n",
      "0.9085878581730189\n",
      "0.867561222965955\n",
      "0.7959632826466093\n",
      "0.6537751429398119\n",
      "0.7613908542636202\n",
      "0.7990302692304252\n",
      "0.7958588102834361\n",
      "0.7584166945585575\n",
      "0.9044549326724687\n",
      "0.8512020582346514\n",
      "0.7663922642652897\n",
      "0.8502049521173316\n",
      "0.7144159433513784\n",
      "0.7864400553744078\n",
      "0.7943200900012413\n",
      "0.8902564404229847\n",
      "0.6351914120653659\n",
      "0.8976683339750889\n",
      "0.8463752568164411\n",
      "0.8123512867619848\n",
      "0.8944601212208971\n",
      "0.9296290054624903\n",
      "0.778862008518002\n"
     ]
    }
   ],
   "source": [
    "best = 0\n",
    "x_train, x_test, y_train, y_test = sklearn.model_selection.train_test_split(X, Y, test_size = 0.1)\n",
    "for _ in range(30):\n",
    "    x_train, x_test, y_train, y_test = sklearn.model_selection.train_test_split(X, Y, test_size = 0.1)\n",
    "    linear = linear_model.LinearRegression()\n",
    "    linear.fit(x_train, y_train) # fit this data to find best line\n",
    "    acc = linear.score(x_test, y_test) # accuracy of our model\n",
    "    print(acc)\n",
    "    if acc > best:\n",
    "        best = acc\n",
    "        with open(\"studentmodel.pickle\", \"wb\") as f:\n",
    "            pickle.dump(linear, f)"
   ]
  },
  {
   "cell_type": "code",
   "execution_count": 40,
   "metadata": {},
   "outputs": [
    {
     "data": {
      "image/png": "[encoded data removed]",
      "text/plain": [
       "<Figure size 2400x1500 with 1 Axes>"
      ]
     },
     "metadata": {},
     "output_type": "display_data"
    }
   ],
   "source": [
    "import matplotlib.pyplot as pyplot\n",
    "style.use(\"ggplot\") #grid looks like half-descent\n",
    "p = \"absences\" #G1, G2, studytime, failures \n",
    "pyplot.scatter(data[p], data[\"G3\"])\n",
    "pyplot.xlabel(p)\n",
    "pyplot.ylabel(\"Final Grade\")\n",
    "pyplot.show()"
   ]
  },
  {
   "cell_type": "markdown",
   "metadata": {},
   "source": [
    "# KNN(K Nearest Neighbors)"
   ]
  },
  {
   "cell_type": "code",
   "execution_count": 46,
   "metadata": {},
   "outputs": [],
   "source": [
    "##KNN \n",
    "import sklearn\n",
    "from sklearn.utils import shuffle\n",
    "from sklearn.neighbors import KNeighborsClassifier\n",
    "from sklearn import linear_model, preprocessing\n",
    "data = pd.read_csv(\"/Users/JaeYoung/Downloads/Car Data Set/car.data\", sep=\",\")\n",
    "# pandas는 첫줄을 attribute로 인지하고 읽는다!!"
   ]
  },
  {
   "cell_type": "code",
   "execution_count": 51,
   "metadata": {},
   "outputs": [
    {
     "data": {
      "text/html": [
       "<div>\n",
       "<style scoped>\n",
       "    .dataframe tbody tr th:only-of-type {\n",
       "        vertical-align: middle;\n",
       "    }\n",
       "\n",
       "    .dataframe tbody tr th {\n",
       "        vertical-align: top;\n",
       "    }\n",
       "\n",
       "    .dataframe thead th {\n",
       "        text-align: right;\n",
       "    }\n",
       "</style>\n",
       "<table border=\"1\" class=\"dataframe\">\n",
       "  <thead>\n",
       "    <tr style=\"text-align: right;\">\n",
       "      <th></th>\n",
       "      <th>buying</th>\n",
       "      <th>maint</th>\n",
       "      <th>door</th>\n",
       "      <th>persons</th>\n",
       "      <th>lug_boot</th>\n",
       "      <th>safety</th>\n",
       "      <th>class</th>\n",
       "    </tr>\n",
       "  </thead>\n",
       "  <tbody>\n",
       "    <tr>\n",
       "      <th>1723</th>\n",
       "      <td>low</td>\n",
       "      <td>low</td>\n",
       "      <td>5more</td>\n",
       "      <td>more</td>\n",
       "      <td>med</td>\n",
       "      <td>med</td>\n",
       "      <td>good</td>\n",
       "    </tr>\n",
       "    <tr>\n",
       "      <th>1724</th>\n",
       "      <td>low</td>\n",
       "      <td>low</td>\n",
       "      <td>5more</td>\n",
       "      <td>more</td>\n",
       "      <td>med</td>\n",
       "      <td>high</td>\n",
       "      <td>vgood</td>\n",
       "    </tr>\n",
       "    <tr>\n",
       "      <th>1725</th>\n",
       "      <td>low</td>\n",
       "      <td>low</td>\n",
       "      <td>5more</td>\n",
       "      <td>more</td>\n",
       "      <td>big</td>\n",
       "      <td>low</td>\n",
       "      <td>unacc</td>\n",
       "    </tr>\n",
       "    <tr>\n",
       "      <th>1726</th>\n",
       "      <td>low</td>\n",
       "      <td>low</td>\n",
       "      <td>5more</td>\n",
       "      <td>more</td>\n",
       "      <td>big</td>\n",
       "      <td>med</td>\n",
       "      <td>good</td>\n",
       "    </tr>\n",
       "    <tr>\n",
       "      <th>1727</th>\n",
       "      <td>low</td>\n",
       "      <td>low</td>\n",
       "      <td>5more</td>\n",
       "      <td>more</td>\n",
       "      <td>big</td>\n",
       "      <td>high</td>\n",
       "      <td>vgood</td>\n",
       "    </tr>\n",
       "  </tbody>\n",
       "</table>\n",
       "</div>"
      ],
      "text/plain": [
       "     buying maint   door persons lug_boot safety  class\n",
       "1723    low   low  5more    more      med    med   good\n",
       "1724    low   low  5more    more      med   high  vgood\n",
       "1725    low   low  5more    more      big    low  unacc\n",
       "1726    low   low  5more    more      big    med   good\n",
       "1727    low   low  5more    more      big   high  vgood"
      ]
     },
     "execution_count": 51,
     "metadata": {},
     "output_type": "execute_result"
    }
   ],
   "source": [
    "data.tail()"
   ]
  },
  {
   "cell_type": "code",
   "execution_count": 52,
   "metadata": {},
   "outputs": [],
   "source": [
    "#numerical value로 바꾸기\n",
    "le = preprocessing.LabelEncoder()\n",
    "buying =le.fit_transform(list(data[\"buying\"])) #list로 넘겨주면 적절한 integer로 바꿔줌(vhigh를 3, low를 1=> 범주화해준다는 거임)\n",
    "maint =le.fit_transform(list(data[\"maint\"]))\n",
    "door =le.fit_transform(list(data[\"door\"]))\n",
    "persons =le.fit_transform(list(data[\"persons\"]))\n",
    "lug_boot =le.fit_transform(list(data[\"lug_boot\"]))\n",
    "safety =le.fit_transform(list(data[\"safety\"]))\n",
    "cls =le.fit_transform(list(data[\"class\"]))"
   ]
  },
  {
   "cell_type": "code",
   "execution_count": 58,
   "metadata": {},
   "outputs": [],
   "source": [
    "predict = \"class\"\n",
    "X = list(zip(buying, maint, door, persons, lug_boot, safety)) #zip은 튜플 묶음으로 만들기에\n",
    "Y = list(cls)\n",
    "\n",
    "x_train, x_test, y_train, y_test = sklearn.model_selection.train_test_split(X, Y, test_size = 0.1)"
   ]
  },
  {
   "cell_type": "markdown",
   "metadata": {},
   "source": [
    "# 모든 데이터를 다 계산할 수 없다. 그래서 클러스터마다 중심을 두는 거임. 그거만 계산하게끔"
   ]
  },
  {
   "cell_type": "code",
   "execution_count": 73,
   "metadata": {},
   "outputs": [
    {
     "name": "stdout",
     "output_type": "stream",
     "text": [
      "good (1, 0, 2, 1, 2, 1) good\n",
      "(array([[1., 1., 1., 1., 1.]]), array([[ 236, 1269, 1550,  296,  858]]))\n",
      "good (3, 1, 0, 1, 1, 2) good\n",
      "(array([[1., 1., 1., 1., 1.]]), array([[  13,  234,  692,  354, 1049]]))\n",
      "good (1, 2, 0, 2, 1, 0) acc\n",
      "(array([[1., 1., 1., 1., 1.]]), array([[  35, 1295,  414, 1112,  366]]))\n",
      "good (2, 0, 3, 0, 1, 2) good\n",
      "(array([[1., 1., 1., 1., 1.]]), array([[ 190,  192, 1311,  139,   37]]))\n",
      "good (2, 3, 3, 0, 0, 0) good\n",
      "(array([[1., 1., 1., 1., 1.]]), array([[ 415, 1350,  189, 1225,  544]]))\n",
      "good (0, 3, 2, 2, 0, 1) good\n",
      "(array([[1., 1., 1., 1., 1.]]), array([[ 788,  182,   16, 1039,  846]]))\n",
      "good (2, 2, 2, 1, 2, 1) good\n",
      "(array([[1., 1., 1., 1., 1.]]), array([[ 392,  444,  693, 1384, 1507]]))\n",
      "good (2, 1, 2, 0, 0, 2) good\n",
      "(array([[1., 1., 1., 1., 1.]]), array([[ 822,  201, 1467,  704,  173]]))\n",
      "acc (1, 1, 1, 1, 0, 2) acc\n",
      "(array([[1., 1., 1., 1., 1.]]), array([[ 757,  559,  237,  105, 1243]]))\n",
      "good (3, 2, 2, 0, 2, 2) good\n",
      "(array([[1., 1., 1., 1., 1.]]), array([[ 312,  193, 1453, 1055,   21]]))\n",
      "unacc (3, 2, 0, 2, 1, 0) unacc\n",
      "(array([[1., 1., 1., 1., 1.]]), array([[1397,  273,  831,  474,  437]]))\n",
      "unacc (2, 1, 3, 1, 2, 2) unacc\n",
      "(array([[1., 1., 1., 1., 1.]]), array([[310, 625, 376, 754, 276]]))\n",
      "good (1, 3, 1, 2, 0, 1) good\n",
      "(array([[1., 1., 1., 1., 1.]]), array([[ 853,  616,   26,  935, 1138]]))\n",
      "good (3, 1, 2, 0, 1, 0) good\n",
      "(array([[1., 1., 1., 1., 1.]]), array([[ 245, 1310,  473, 1493, 1209]]))\n",
      "unacc (0, 1, 1, 1, 0, 0) unacc\n",
      "(array([[1., 1., 1., 1., 1.]]), array([[ 934,  170, 1065,  449,  998]]))\n",
      "good (2, 2, 1, 0, 0, 0) good\n",
      "(array([[1., 1., 1., 1., 1.]]), array([[1425, 1408,  607, 1137,  212]]))\n",
      "good (0, 2, 1, 0, 1, 1) good\n",
      "(array([[1., 1., 1., 1., 1.]]), array([[1187, 1229, 1335,  166,  941]]))\n",
      "good (3, 3, 3, 0, 1, 0) good\n",
      "(array([[1., 1., 1., 1., 1.]]), array([[1435,  189,  402,  834,  544]]))\n",
      "good (3, 3, 1, 1, 2, 2) good\n",
      "(array([[1., 1., 1., 1., 1.]]), array([[ 628, 1368, 1197,  466,  565]]))\n",
      "good (1, 0, 2, 0, 1, 1) good\n",
      "(array([[1., 1., 1., 1., 1.]]), array([[ 236,   75,  790, 1206,  296]]))\n",
      "good (2, 2, 0, 2, 0, 1) good\n",
      "(array([[1., 1., 1., 1., 1.]]), array([[ 322,  897,  279,  668, 1523]]))\n",
      "good (3, 0, 0, 2, 1, 0) good\n",
      "(array([[1., 1., 1., 1., 1.]]), array([[  97,  151, 1012,  669, 1324]]))\n",
      "good (3, 1, 2, 0, 0, 2) good\n",
      "(array([[1., 1., 1., 1., 1.]]), array([[1470,  177,  184,   62, 1111]]))\n",
      "acc (2, 1, 1, 2, 0, 2) acc\n",
      "(array([[1., 1., 1., 1., 1.]]), array([[1140,  807,  105,  591, 1215]]))\n",
      "unacc (0, 0, 1, 2, 1, 2) unacc\n",
      "(array([[1., 1., 1., 1., 1.]]), array([[1304,    3,  205,  855, 1468]]))\n",
      "unacc (3, 2, 2, 1, 1, 0) unacc\n",
      "(array([[1., 1., 1., 1., 1.]]), array([[1329,  218,  920,  491, 1319]]))\n",
      "good (3, 3, 3, 1, 0, 0) good\n",
      "(array([[1., 1., 1., 1., 1.]]), array([[1454,  302, 1461,  189, 1360]]))\n",
      "good (2, 3, 2, 0, 2, 0) good\n",
      "(array([[1., 1., 1., 1., 1.]]), array([[ 564,  666,   23, 1496, 1230]]))\n",
      "good (0, 2, 2, 1, 1, 1) good\n",
      "(array([[1., 1., 1., 1., 1.]]), array([[ 695,  755, 1106,  769,  574]]))\n",
      "good (2, 3, 0, 1, 2, 1) good\n",
      "(array([[1., 1., 1., 1., 1.]]), array([[1261,  553,  948,  984, 1091]]))\n",
      "good (1, 2, 2, 1, 1, 1) good\n",
      "(array([[1., 1., 1., 1., 1.]]), array([[ 866,   15, 1466, 1013, 1541]]))\n",
      "acc (1, 1, 2, 1, 2, 0) acc\n",
      "(array([[1., 1., 1., 1., 1.]]), array([[ 714, 1129, 1173, 1550,  776]]))\n",
      "good (2, 0, 2, 0, 0, 2) good\n",
      "(array([[1., 1., 1., 1., 1.]]), array([[  89,  192, 1470,  190, 1519]]))\n",
      "good (1, 0, 1, 2, 0, 1) good\n",
      "(array([[1., 1., 1., 1., 1.]]), array([[ 919, 1267,  927,  992,  133]]))\n",
      "good (1, 1, 1, 2, 2, 1) good\n",
      "(array([[1., 1., 1., 1., 1.]]), array([[ 696, 1018,  891,   78,  929]]))\n",
      "good (1, 0, 2, 0, 2, 0) good\n",
      "(array([[1., 1., 1., 1., 1.]]), array([[1029, 1129,  772,  296, 1173]]))\n",
      "good (1, 0, 0, 2, 2, 1) good\n",
      "(array([[1., 1., 1., 1., 1.]]), array([[696, 503, 891, 165, 744]]))\n",
      "good (1, 2, 0, 0, 0, 2) good\n",
      "(array([[1., 1., 1., 1., 1.]]), array([[1175,  702, 1314,  830,  285]]))\n",
      "unacc (1, 0, 0, 2, 1, 0) unacc\n",
      "(array([[1., 1., 1., 1., 1.]]), array([[1068,  364,  744, 1112,  179]]))\n",
      "unacc (0, 2, 2, 2, 0, 2) unacc\n",
      "(array([[1., 1., 1., 1., 1.]]), array([[1338,  846,  870,  888, 1248]]))\n",
      "good (3, 0, 4, 2, 2, 1) good\n",
      "(array([[1.        , 1.        , 1.        , 1.        , 1.41421356]]), array([[  38,  229, 1024, 1352, 1180]]))\n",
      "good (2, 2, 2, 0, 2, 1) good\n",
      "(array([[1., 1., 1., 1., 1.]]), array([[1055, 1524,  396,  841,   21]]))\n",
      "good (3, 2, 0, 0, 2, 0) good\n",
      "(array([[1., 1., 1., 1., 1.]]), array([[ 271, 1054, 1233,  313,  274]]))\n",
      "good (0, 3, 2, 2, 1, 2) good\n",
      "(array([[1., 1., 1., 1., 1.]]), array([[ 846,   16,  325, 1198, 1331]]))\n",
      "good (1, 3, 2, 2, 1, 1) good\n",
      "(array([[1., 1., 1., 1., 1.]]), array([[1144, 1411, 1485, 1466, 1083]]))\n",
      "unacc (2, 2, 2, 2, 0, 2) unacc\n",
      "(array([[1., 1., 1., 1., 1.]]), array([[1164,  658,  833,  860,  125]]))\n",
      "good (1, 1, 1, 1, 0, 1) good\n",
      "(array([[1., 1., 1., 1., 1.]]), array([[ 577, 1128,  133, 1549,  992]]))\n",
      "unacc (2, 3, 2, 2, 1, 0) unacc\n",
      "(array([[1., 1., 1., 1., 1.]]), array([[1411,  799, 1146,  338, 1353]]))\n",
      "vgood (1, 1, 2, 1, 0, 0) vgood\n",
      "(array([[1., 1., 1., 1., 1.]]), array([[1210,  318, 1281,  714,  728]]))\n",
      "unacc (0, 2, 1, 1, 0, 2) unacc\n",
      "(array([[1., 1., 1., 1., 1.]]), array([[  86, 1432,  808, 1009,  816]]))\n",
      "good (0, 2, 3, 1, 0, 1) good\n",
      "(array([[1., 1., 1., 1., 1.]]), array([[ 722, 1080,  766,  695,  574]]))\n",
      "good (3, 1, 0, 2, 0, 2) unacc\n",
      "(array([[1., 1., 1., 1., 1.]]), array([[1046,   82,  500, 1264, 1215]]))\n",
      "good (0, 3, 0, 1, 1, 2) good\n",
      "(array([[1., 1., 1., 1., 1.]]), array([[1537, 1439,  227,  195,  917]]))\n",
      "vgood (1, 1, 2, 2, 0, 0) vgood\n",
      "(array([[1., 1., 1., 1., 1.]]), array([[1332,  455,  820,  326,  258]]))\n",
      "unacc (1, 2, 3, 1, 2, 0) acc\n",
      "(array([[1., 1., 1., 1., 1.]]), array([[ 937, 1510, 1167,  657,  200]]))\n",
      "unacc (3, 2, 2, 2, 0, 0) unacc\n",
      "(array([[1., 1., 1., 1., 1.]]), array([[ 172,  235, 1050,  493, 1329]]))\n",
      "good (0, 1, 2, 1, 0, 1) good\n",
      "(array([[1., 1., 1., 1., 1.]]), array([[1391,  378,  805, 1337,  512]]))\n",
      "unacc (2, 2, 3, 2, 2, 2) unacc\n",
      "(array([[1., 1., 1., 1., 1.]]), array([[ 644,  231, 1273, 1192,  653]]))\n",
      "good (0, 3, 2, 0, 2, 0) good\n",
      "(array([[1., 1., 1., 1., 1.]]), array([[ 528, 1424, 1535, 1476, 1449]]))\n",
      "good (3, 0, 2, 1, 1, 2) good\n",
      "(array([[1., 1., 1., 1., 1.]]), array([[1003,   47,  557,  307, 1436]]))\n",
      "good (0, 0, 1, 1, 1, 2) good\n",
      "(array([[1., 1., 1., 1., 1.]]), array([[ 522, 1157,    0,   90,  732]]))\n",
      "good (1, 3, 1, 0, 2, 2) good\n",
      "(array([[1., 1., 1., 1., 1.]]), array([[ 640, 1553, 1346, 1330,  618]]))\n",
      "good (1, 2, 0, 0, 1, 0) good\n",
      "(array([[1., 1., 1., 1., 1.]]), array([[ 511, 1392, 1500,   55, 1247]]))\n",
      "acc (1, 1, 2, 2, 2, 0) acc\n",
      "(array([[1., 1., 1., 1., 1.]]), array([[ 326, 1176,  655, 1007,  914]]))\n",
      "good (1, 0, 3, 2, 2, 1) good\n",
      "(array([[1., 1., 1., 1., 1.]]), array([[1221, 1269,  301, 1290, 1052]]))\n",
      "good (1, 0, 0, 2, 1, 1) good\n",
      "(array([[1., 1., 1., 1., 1.]]), array([[ 908,  707,  497, 1150, 1267]]))\n",
      "good (2, 0, 3, 0, 2, 2) good\n",
      "(array([[1., 1., 1., 1., 1.]]), array([[1113,  659,  276, 1078, 1214]]))\n",
      "unacc (1, 3, 3, 2, 1, 0) unacc\n",
      "(array([[1., 1., 1., 1., 1.]]), array([[1400, 1485, 1419, 1394,  703]]))\n",
      "good (3, 3, 3, 0, 1, 2) good\n",
      "(array([[1., 1., 1., 1., 1.]]), array([[ 613,  619, 1479, 1166,  402]]))\n",
      "good (3, 2, 3, 0, 2, 2) good\n",
      "(array([[1., 1., 1., 1., 1.]]), array([[ 832,  619, 1376,  432,  922]]))\n",
      "good (2, 0, 3, 1, 1, 1) good\n",
      "(array([[1., 1., 1., 1., 1.]]), array([[1311,  789, 1193,  854,  835]]))\n",
      "good (2, 2, 1, 0, 1, 2) good\n",
      "(array([[1., 1., 1., 1., 1.]]), array([[826,  83, 746, 951, 646]]))\n",
      "good (0, 0, 2, 0, 1, 0) good\n",
      "(array([[1., 1., 1., 1., 1.]]), array([[ 925,  558, 1033,   58,  292]]))\n",
      "good (3, 3, 0, 2, 1, 0) good\n",
      "(array([[1., 1., 1., 1., 1.]]), array([[ 685, 1132, 1460, 1168,  633]]))\n",
      "unacc (1, 0, 1, 1, 2, 2) unacc\n",
      "(array([[1., 1., 1., 1., 1.]]), array([[ 337,  244, 1204,  545, 1059]]))\n",
      "good (0, 3, 3, 1, 1, 0) good\n",
      "(array([[1., 1., 1., 1., 1.]]), array([[ 588,  395, 1183,  148,  656]]))\n",
      "unacc (1, 3, 1, 2, 1, 0) unacc\n",
      "(array([[1., 1., 1., 1., 1.]]), array([[1138,  952,  616,  219,  414]]))\n",
      "good (3, 0, 1, 1, 0, 0) good\n",
      "(array([[1., 1., 1., 1., 1.]]), array([[1194,   32,  979, 1407,  678]]))\n",
      "good (0, 1, 0, 0, 2, 2) good\n",
      "(array([[1., 1., 1., 1., 1.]]), array([[652,  49, 909, 637, 611]]))\n",
      "unacc (3, 1, 3, 1, 0, 2) unacc\n",
      "(array([[1., 1., 1., 1., 1.]]), array([[ 177, 1480,  617,  184,  225]]))\n",
      "good (1, 0, 2, 0, 0, 2) good\n",
      "(array([[1., 1., 1., 1., 1.]]), array([[ 790,  704,  871, 1206,  573]]))\n",
      "unacc (0, 2, 2, 1, 1, 2) unacc\n",
      "(array([[1., 1., 1., 1., 1.]]), array([[ 894, 1297,  651,  888, 1248]]))\n",
      "good (2, 3, 1, 2, 0, 1) good\n",
      "(array([[1., 1., 1., 1., 1.]]), array([[223, 622, 999, 697, 897]]))\n",
      "unacc (1, 1, 3, 2, 2, 2) unacc\n",
      "(array([[1., 1., 1., 1., 1.]]), array([[1290,  310,  454, 1221,  126]]))\n",
      "good (0, 1, 1, 0, 2, 1) good\n",
      "(array([[1., 1., 1., 1., 1.]]), array([[ 637,  441, 1361,  880,  166]]))\n",
      "good (2, 1, 2, 0, 1, 1) good\n",
      "(array([[1., 1., 1., 1., 1.]]), array([[1494, 1493,  521,   75, 1467]]))\n",
      "good (1, 2, 2, 0, 0, 2) good\n",
      "(array([[1., 1., 1., 1., 1.]]), array([[1528,  822,  471,  268, 1156]]))\n",
      "good (2, 2, 0, 1, 1, 1) good\n",
      "(array([[1., 1., 1., 1., 1.]]), array([[1385,  782,  802,  632,  103]]))\n",
      "good (2, 1, 1, 0, 1, 2) good\n",
      "(array([[1., 1., 1., 1., 1.]]), array([[ 762,  606,  585,  261, 1516]]))\n",
      "good (1, 1, 3, 1, 2, 1) good\n",
      "(array([[1., 1., 1., 1., 1.]]), array([[1221,  434,  776, 1550,   14]]))\n",
      "unacc (3, 1, 2, 1, 2, 0) unacc\n",
      "(array([[1., 1., 1., 1., 1.]]), array([[1320, 1310, 1354,   12, 1471]]))\n",
      "unacc (0, 0, 0, 1, 0, 0) unacc\n",
      "(array([[1., 1., 1., 1., 1.]]), array([[ 129, 1487, 1061,  543,  760]]))\n",
      "unacc (2, 3, 1, 1, 2, 0) unacc\n",
      "(array([[1., 1., 1., 1., 1.]]), array([[152, 553, 568,  99, 342]]))\n",
      "good (3, 0, 1, 0, 0, 0) good\n",
      "(array([[1., 1., 1., 1., 1.]]), array([[1073,  683,  991, 1053, 1322]]))\n",
      "good (0, 3, 2, 2, 1, 0) good\n",
      "(array([[1., 1., 1., 1., 1.]]), array([[1036, 1014,   16, 1039,  656]]))\n",
      "unacc (3, 2, 0, 1, 0, 0) unacc\n",
      "(array([[1., 1., 1., 1., 1.]]), array([[ 926, 1006,  735, 1207,  406]]))\n",
      "good (0, 1, 1, 0, 1, 0) good\n",
      "(array([[1., 1., 1., 1., 1.]]), array([[ 970, 1361,  166,  998, 1065]]))\n",
      "good (1, 2, 3, 2, 0, 1) good\n",
      "(array([[1., 1., 1., 1., 1.]]), array([[642, 389, 892, 861,  56]]))\n",
      "good (1, 3, 3, 1, 2, 1) good\n",
      "(array([[1., 1., 1., 1., 1.]]), array([[ 911, 1167, 1001,  101,  705]]))\n",
      "good (3, 1, 0, 1, 0, 2) unacc\n",
      "(array([[1., 1., 1., 1., 1.]]), array([[662, 539, 944, 210, 252]]))\n",
      "good (2, 3, 3, 2, 0, 1) good\n",
      "(array([[1., 1., 1., 1., 1.]]), array([[ 516,  242,  876, 1462,  706]]))\n",
      "good (1, 1, 0, 2, 1, 1) good\n",
      "(array([[1., 1., 1., 1., 1.]]), array([[1125,  127,  891, 1112, 1509]]))\n",
      "acc (1, 1, 0, 1, 1, 0) acc\n",
      "(array([[1., 1., 1., 1., 1.]]), array([[1112,  179, 1500,  343,  127]]))\n",
      "good (1, 3, 3, 1, 2, 2) good\n",
      "(array([[1., 1., 1., 1., 1.]]), array([[1420,  852, 1202,  859, 1339]]))\n",
      "good (3, 1, 3, 0, 2, 2) good\n",
      "(array([[1., 1., 1., 1., 1.]]), array([[193, 398, 376, 276, 900]]))\n",
      "good (1, 0, 0, 1, 0, 0) vgood\n",
      "(array([[1., 1., 1., 1., 1.]]), array([[1068, 1149,  343,  358,  179]]))\n",
      "good (0, 1, 1, 0, 2, 2) good\n",
      "(array([[1., 1., 1., 1., 1.]]), array([[ 921,  410,  905, 1499,  167]]))\n",
      "good (2, 2, 2, 2, 2, 1) good\n",
      "(array([[1., 1., 1., 1., 1.]]), array([[ 467,  748,  966,  795, 1192]]))\n",
      "unacc (3, 2, 2, 1, 1, 2) unacc\n",
      "(array([[1., 1., 1., 1., 1.]]), array([[491, 903, 526, 312, 504]]))\n",
      "unacc (0, 1, 2, 2, 2, 0) unacc\n",
      "(array([[1., 1., 1., 1., 1.]]), array([[1377, 1402,   61, 1491,  881]]))\n",
      "unacc (1, 3, 2, 1, 0, 2) unacc\n",
      "(array([[1., 1., 1., 1., 1.]]), array([[1043,  567,  915,  768, 1528]]))\n",
      "good (1, 3, 3, 1, 0, 1) good\n",
      "(array([[1., 1., 1., 1., 1.]]), array([[1216,  567,  101,  915,  400]]))\n",
      "unacc (2, 0, 0, 2, 2, 0) good\n",
      "(array([[1., 1., 1., 1., 1.]]), array([[1012,  109,  336,  744, 1099]]))\n",
      "unacc (0, 1, 3, 2, 0, 0) unacc\n",
      "(array([[1., 1., 1., 1., 1.]]), array([[ 675,  455, 1062, 1139,  949]]))\n",
      "good (0, 2, 0, 1, 2, 2) good\n",
      "(array([[1., 1., 1., 1., 1.]]), array([[ 783, 1537,  909, 1347, 1405]]))\n",
      "good (2, 1, 0, 0, 0, 2) good\n",
      "(array([[1., 1., 1., 1., 1.]]), array([[ 494,  269, 1345,  830,  210]]))\n",
      "good (1, 2, 3, 2, 2, 2) unacc\n",
      "(array([[1., 1., 1., 1., 1.]]), array([[1339,  233, 1420, 1279,  463]]))\n",
      "good (0, 1, 0, 0, 0, 1) good\n",
      "(array([[1., 1., 1., 1., 1.]]), array([[ 514,  758, 1084,  295,  159]]))\n",
      "unacc (0, 1, 2, 1, 1, 0) unacc\n",
      "(array([[1., 1., 1., 1., 1.]]), array([[1391,  881,  512, 1033,  558]]))\n",
      "good (3, 1, 0, 1, 1, 1) good\n",
      "(array([[1., 1., 1., 1., 1.]]), array([[  17, 1385,  662,  510, 1205]]))\n",
      "unacc (0, 1, 1, 2, 1, 0) unacc\n",
      "(array([[1., 1., 1., 1., 1.]]), array([[ 333, 1182, 1065,  995,  934]]))\n",
      "good (3, 2, 2, 0, 1, 2) good\n",
      "(array([[1., 1., 1., 1., 1.]]), array([[1034,   62, 1488,  832, 1166]]))\n",
      "good (2, 1, 3, 0, 2, 0) good\n",
      "(array([[1., 1., 1., 1., 1.]]), array([[ 700, 1481, 1309,  162,  676]]))\n",
      "vgood (1, 0, 2, 1, 1, 0) vgood\n",
      "(array([[1., 1., 1., 1., 1.]]), array([[1235, 1281,  714,  236, 1029]]))\n",
      "good (3, 0, 1, 2, 1, 2) good\n",
      "(array([[1., 1., 1., 1., 1.]]), array([[1240, 1457,  624,  262,  582]]))\n",
      "unacc (0, 2, 2, 1, 2, 0) unacc\n",
      "(array([[1., 1., 1., 1., 1.]]), array([[ 989,  711,  755, 1424,  399]]))\n",
      "good (3, 3, 2, 0, 0, 0) good\n",
      "(array([[1., 1., 1., 1., 1.]]), array([[1246, 1360,  189,  415, 1435]]))\n",
      "good (2, 1, 0, 1, 2, 2) unacc\n",
      "(array([[1., 1., 1., 1., 1.]]), array([[ 741,  692, 1049, 1458,   45]]))\n",
      "good (3, 1, 1, 0, 2, 0) good\n",
      "(array([[1., 1., 1., 1., 1.]]), array([[ 823,  313, 1259,  877,  433]]))\n",
      "good (2, 0, 1, 1, 1, 1) good\n",
      "(array([[1., 1., 1., 1., 1.]]), array([[ 717, 1086,  440,  119, 1497]]))\n",
      "good (1, 1, 2, 2, 2, 1) good\n",
      "(array([[1., 1., 1., 1., 1.]]), array([[1550,  454, 1269, 1427, 1221]]))\n",
      "good (0, 3, 1, 1, 2, 1) good\n",
      "(array([[1., 1., 1., 1., 1.]]), array([[1525,  117,  355,  904, 1348]]))\n",
      "unacc (1, 3, 1, 2, 2, 0) unacc\n",
      "(array([[1., 1., 1., 1., 1.]]), array([[ 737,   99, 1340,  499, 1004]]))\n",
      "good (1, 3, 3, 0, 0, 1) good\n",
      "(array([[1., 1., 1., 1., 1.]]), array([[1225,  362, 1174,  286,  335]]))\n",
      "good (2, 0, 0, 2, 2, 1) good\n",
      "(array([[1., 1., 1., 1., 1.]]), array([[ 803,  787, 1486, 1172, 1242]]))\n",
      "unacc (2, 3, 2, 2, 2, 0) unacc\n",
      "(array([[1., 1., 1., 1., 1.]]), array([[ 748, 1530, 1357,   18,  554]]))\n",
      "good (3, 0, 2, 1, 2, 1) good\n",
      "(array([[1., 1., 1., 1., 1.]]), array([[1436, 1354, 1082,  975, 1307]]))\n",
      "good (3, 0, 1, 2, 0, 2) good\n",
      "(array([[1., 1., 1., 1., 1.]]), array([[1264,   82,  591,  257,  976]]))\n",
      "good (1, 3, 2, 0, 0, 2) good\n",
      "(array([[1., 1., 1., 1., 1.]]), array([[515, 587, 804, 335, 874]]))\n",
      "good (1, 0, 2, 0, 0, 0) good\n",
      "(array([[1., 1., 1., 1., 1.]]), array([[ 950, 1281, 1206, 1029, 1210]]))\n",
      "good (0, 0, 0, 1, 1, 1) good\n",
      "(array([[1., 1., 1., 1., 1.]]), array([[ 621, 1061,  760,  522,  707]]))\n",
      "good (2, 0, 0, 0, 1, 1) good\n",
      "(array([[1., 1., 1., 1., 1.]]), array([[ 393,  169, 1315,  916,  119]]))\n",
      "good (1, 0, 2, 1, 0, 1) good\n",
      "(array([[1., 1., 1., 1., 1.]]), array([[ 236,  728,  275, 1206,  573]]))\n",
      "good (1, 1, 0, 0, 1, 1) good\n",
      "(array([[1., 1., 1., 1., 1.]]), array([[1025,  127, 1500,  248,  916]]))\n",
      "unacc (0, 0, 1, 1, 2, 0) unacc\n",
      "(array([[1., 1., 1., 1., 1.]]), array([[549, 181, 160,   5, 825]]))\n",
      "good (3, 1, 0, 0, 0, 0) good\n",
      "(array([[1., 1., 1., 1., 1.]]), array([[ 683, 1395, 1322,  947,  287]]))\n",
      "good (2, 1, 0, 0, 1, 2) good\n",
      "(array([[1., 1., 1., 1., 1.]]), array([[136, 354, 248, 169,  45]]))\n",
      "good (0, 3, 3, 2, 2, 0) good\n",
      "(array([[1., 1., 1., 1., 1.]]), array([[ 395, 1394, 1105, 1036, 1014]]))\n",
      "good (3, 3, 3, 2, 1, 2) good\n",
      "(array([[1., 1., 1., 1., 1.]]), array([[ 946, 1136,  896,  961,  751]]))\n",
      "good (2, 0, 2, 1, 1, 1) good\n",
      "(array([[1., 1., 1., 1., 1.]]), array([[626, 307, 236, 975, 895]]))\n",
      "good (1, 1, 1, 0, 2, 0) good\n",
      "(array([[1., 1., 1., 1., 1.]]), array([[ 76, 729,  51, 578, 263]]))\n",
      "good (3, 0, 1, 1, 2, 1) good\n"
     ]
    },
    {
     "name": "stdout",
     "output_type": "stream",
     "text": [
      "(array([[1., 1., 1., 1., 1.]]), array([[ 847, 1278,  440,  717,  923]]))\n",
      "good (0, 0, 2, 1, 0, 1) good\n",
      "(array([[1., 1., 1., 1., 1.]]), array([[ 541,  382,  907, 1103, 1011]]))\n",
      "good (1, 3, 2, 0, 0, 1) good\n",
      "(array([[1., 1., 1., 1., 1.]]), array([[1156,  451,  567, 1037,  942]]))\n",
      "good (0, 3, 0, 0, 1, 0) good\n",
      "(array([[1., 1., 1., 1., 1.]]), array([[  55, 1392,  931, 1284, 1115]]))\n",
      "good (0, 3, 3, 1, 0, 1) good\n",
      "(array([[1., 1., 1., 1., 1.]]), array([[362, 475, 588, 788, 148]]))\n",
      "good (2, 0, 2, 0, 2, 1) good\n",
      "(array([[1., 1., 1., 1., 1.]]), array([[ 296, 1494, 1372, 1113,  975]]))\n",
      "good (1, 2, 0, 0, 0, 0) good\n",
      "(array([[1., 1., 1., 1., 1.]]), array([[ 357, 1175, 1093, 1552,  294]]))\n",
      "good (2, 2, 2, 0, 1, 2) good\n",
      "(array([[1., 1., 1., 1., 1.]]), array([[1055, 1524,  822,  471,  526]]))\n",
      "good (3, 2, 0, 1, 0, 1) good\n",
      "(array([[1., 1., 1., 1., 1.]]), array([[662, 279, 546, 443, 103]]))\n",
      "good (3, 1, 2, 1, 2, 2) good\n",
      "(array([[1., 1., 1., 1., 1.]]), array([[ 754,  742,  193, 1307, 1471]]))\n",
      "good (2, 3, 1, 0, 0, 2) good\n",
      "(array([[1., 1., 1., 1., 1.]]), array([[ 826,  969,  587, 1155, 1231]]))\n",
      "good (0, 0, 2, 2, 1, 1) good\n",
      "(array([[1., 1., 1., 1., 1.]]), array([[331, 382, 149, 541, 614]]))\n",
      "good (1, 0, 3, 0, 1, 1) good\n",
      "(array([[1., 1., 1., 1., 1.]]), array([[ 478,  168,  837,  139, 1060]]))\n",
      "good (1, 2, 3, 1, 1, 1) good\n",
      "(array([[1., 1., 1., 1., 1.]]), array([[ 657,  400, 1167,  101,   56]]))\n",
      "unacc (1, 0, 1, 2, 1, 0) vgood\n",
      "(array([[1., 1., 1., 1., 1.]]), array([[1161,  497,  919,   39,   63]]))\n",
      "good (0, 1, 0, 0, 0, 0) good\n",
      "(array([[1., 1., 1., 1., 1.]]), array([[449, 357, 543, 970, 998]]))\n",
      "good (2, 2, 0, 2, 1, 0) unacc\n",
      "(array([[1., 1., 1., 1., 1.]]), array([[ 682,  424,  633, 1539,  120]]))\n",
      "good (1, 2, 1, 2, 0, 1) good\n",
      "(array([[1., 1., 1., 1., 1.]]), array([[1000,  154,  750,  133,  322]]))\n",
      "good (2, 0, 1, 1, 0, 1) good\n",
      "(array([[1., 1., 1., 1., 1.]]), array([[ 677,  979, 1017,  992, 1407]]))\n",
      "good (3, 2, 1, 2, 2, 1) good\n",
      "(array([[1., 1., 1., 1., 1.]]), array([[ 848,  266, 1236, 1090, 1300]]))\n",
      "good (0, 3, 3, 2, 2, 1) good\n",
      "(array([[1., 1., 1., 1., 1.]]), array([[267, 719, 180, 211, 277]]))\n",
      "good (0, 3, 0, 2, 1, 0) good\n",
      "(array([[1., 1., 1., 1., 1.]]), array([[ 219,  317,  414,  579, 1511]]))\n"
     ]
    }
   ],
   "source": [
    "model = KNeighborsClassifier(n_neighbors=9) #변수하나를 neighbor 개수로 받음\n",
    "model.fit(x_train, y_train)\n",
    "acc = model.score(x_test, y_test)\n",
    "#물론 neighbors가 많을수록 acc가 높아지겠지만 어느정도 한계점이 있다.\n",
    "predictions = model.predict(x_test)\n",
    "names = [\"unacc\", \"acc\", \"good\", \"vgood\"]\n",
    "for x in range(len(x_test)):\n",
    "    print(names[predictions[x]], x_test[x], names[y_test[x]]) #prediction이 모델에서 나온예상, y_test가 실제 결과\n",
    "    n = model.kneighbors([x_test[x]], 5, True)\n",
    "    print(n)"
   ]
  },
  {
   "cell_type": "markdown",
   "metadata": {},
   "source": [
    "# Support Vector Machines\n"
   ]
  },
  {
   "cell_type": "code",
   "execution_count": 75,
   "metadata": {},
   "outputs": [
    {
     "name": "stdout",
     "output_type": "stream",
     "text": [
      "['mean radius' 'mean texture' 'mean perimeter' 'mean area'\n",
      " 'mean smoothness' 'mean compactness' 'mean concavity'\n",
      " 'mean concave points' 'mean symmetry' 'mean fractal dimension'\n",
      " 'radius error' 'texture error' 'perimeter error' 'area error'\n",
      " 'smoothness error' 'compactness error' 'concavity error'\n",
      " 'concave points error' 'symmetry error' 'fractal dimension error'\n",
      " 'worst radius' 'worst texture' 'worst perimeter' 'worst area'\n",
      " 'worst smoothness' 'worst compactness' 'worst concavity'\n",
      " 'worst concave points' 'worst symmetry' 'worst fractal dimension']\n",
      "['malignant' 'benign']\n"
     ]
    }
   ],
   "source": [
    "import sklearn\n",
    "from sklearn import datasets\n",
    "from sklearn import svm\n",
    "\n",
    "cancer = datasets.load_breast_cancer() #datasets.~~ 중에 아무거나 고르면됨\n",
    "\n",
    "print(cancer.feature_names)\n",
    "print(cancer.target_names)"
   ]
  },
  {
   "cell_type": "code",
   "execution_count": 76,
   "metadata": {},
   "outputs": [
    {
     "name": "stdout",
     "output_type": "stream",
     "text": [
      "[[1.530e+01 2.527e+01 1.024e+02 ... 2.024e-01 4.027e-01 9.876e-02]\n",
      " [1.162e+01 1.818e+01 7.638e+01 ... 1.416e-01 2.660e-01 9.270e-02]\n",
      " [1.169e+01 2.444e+01 7.637e+01 ... 1.308e-01 2.803e-01 9.970e-02]\n",
      " ...\n",
      " [1.390e+01 1.924e+01 8.873e+01 ... 8.150e-02 2.356e-01 7.603e-02]\n",
      " [1.607e+01 1.965e+01 1.041e+02 ... 1.520e-01 2.650e-01 6.387e-02]\n",
      " [1.727e+01 2.542e+01 1.124e+02 ... 1.739e-01 2.500e-01 7.944e-02]] [0 1 1 1 0 0 0 0 0 0 1 1 0 1 0 1 0 1 0 0 0 1 1 1 0 1 1 0 1 0 0 0 1 0 1 1 1\n",
      " 1 1 0 1 1 1 0 1 0 0 1 1 0 1 1 1 0 1 0 1 0 1 0 0 0 1 1 0 1 1 0 1 1 1 1 0 1\n",
      " 0 1 1 1 0 1 0 0 0 0 1 0 0 0 1 0 0 0 1 0 1 0 1 1 1 1 0 1 1 1 1 0 1 0 0 1 1\n",
      " 1 1 1 1 1 1 1 1 0 0 1 1 1 1 1 0 0 0 1 1 0 1 1 1 1 1 1 1 0 1 1 1 0 1 1 0 1\n",
      " 1 0 1 1 0 1 1 1 1 1 0 1 0 1 1 0 1 0 0 1 0 1 0 0 0 1 1 1 1 1 0 1 0 0 1 1 1\n",
      " 1 1 0 1 0 1 1 1 0 0 0 1 1 1 1 0 1 1 1 0 0 1 0 1 1 1 1 1 1 1 0 0 1 1 0 1 1\n",
      " 1 1 1 1 1 1 0 1 0 1 1 1 1 1 0 0 0 1 1 0 1 1 1 1 1 1 1 1 0 1 0 0 1 1 1 0 1\n",
      " 1 1 1 1 0 1 0 1 1 1 1 1 1 1 1 1 0 1 1 1 1 1 1 1 0 0 1 1 0 1 0 0 1 1 1 1 1\n",
      " 0 1 0 1 0 1 1 1 0 1 1 0 0 0 0 0 1 1 1 1 1 0 1 1 1 0 0 1 1 1 1 1 0 1 1 0 1\n",
      " 1 1 1 0 0 0 0 0 1 1 1 0 1 1 1 0 0 1 0 1 1 1 1 0 0 1 0 1 0 1 0 1 1 1 0 1 0\n",
      " 0 1 1 1 1 1 0 0 1 1 0 0 0 1 0 0 1 0 1 0 1 0 1 1 1 1 1 1 0 1 1 1 1 1 0 1 1\n",
      " 1 1 1 0 0 1 1 0 0 1 1 1 0 0 1 0 1 1 1 0 1 1 1 0 1 1 0 0 0 1 0 1 1 1 0 1 1\n",
      " 0 1 0 1 1 0 1 1 1 0 0]\n"
     ]
    }
   ],
   "source": [
    "X = cancer.data\n",
    "Y = cancer.target\n",
    "\n",
    "x_train, x_test, y_train, y_test = sklearn.model_selection.train_test_split(X, Y, test_size = 0.2)\n",
    "print(x_train, y_train)\n",
    "classes = ['malignant', 'benign']\n"
   ]
  },
  {
   "cell_type": "markdown",
   "metadata": {},
   "source": [
    "# SVM"
   ]
  },
  {
   "cell_type": "code",
   "execution_count": 1,
   "metadata": {},
   "outputs": [],
   "source": [
    "import sklearn\n",
    "from sklearn import datasets\n",
    "from sklearn import svm\n",
    "from sklearn import metrics\n",
    "from sklearn.neighbors import KNeighborsClassifier\n",
    "\n",
    "cancer = datasets.load_breast_cancer()\n",
    "\n",
    "X = cancer.data\n",
    "Y = cancer.target\n",
    "\n",
    "x_train, x_test, y_train, y_test = sklearn.model_selection.train_test_split(X, Y, test_size = 0.2)\n",
    "\n",
    "classes = ['malignant', 'benign']"
   ]
  },
  {
   "cell_type": "code",
   "execution_count": 2,
   "metadata": {},
   "outputs": [
    {
     "data": {
      "text/plain": [
       "0.543859649122807"
      ]
     },
     "execution_count": 2,
     "metadata": {},
     "output_type": "execute_result"
    }
   ],
   "source": [
    "clf = svm.SVC() #support vector classification\n",
    "clf.fit(x_train, y_train)\n",
    "\n",
    "y_pred = clf.predict(x_test)\n",
    "acc = metrics.accuracy_score(y_test, y_pred) #1번째 실제결과, 2번째 예측결과\n",
    "# 아직까진 글케 높지 않음(54%라니)"
   ]
  },
  {
   "cell_type": "code",
   "execution_count": 3,
   "metadata": {},
   "outputs": [
    {
     "data": {
      "text/plain": [
       "0.956140350877193"
      ]
     },
     "execution_count": 3,
     "metadata": {},
     "output_type": "execute_result"
    }
   ],
   "source": [
    "clf = svm.SVC(kernel = \"linear\")\n",
    "clf.fit(x_train, y_train)\n",
    "\n",
    "y_pred = clf.predict(x_test)\n",
    "acc = metrics.accuracy_score(y_test, y_pred) #1번째 실제결과, 2번째 예측결과\n",
    "#kernel linear만 추가했는데도 95%됨, poly로 하면 좀 오래기다려야함!!, degree=2추가해도"
   ]
  },
  {
   "cell_type": "code",
   "execution_count": 4,
   "metadata": {},
   "outputs": [
    {
     "data": {
      "text/plain": [
       "0.956140350877193"
      ]
     },
     "execution_count": 4,
     "metadata": {},
     "output_type": "execute_result"
    }
   ],
   "source": [
    "clf = svm.SVC(kernel=\"linear\", C=2) #C=0이면 hard margin 1이상이면 soft margin으로감\n",
    "clf.fit(x_train, y_train)\n",
    "\n",
    "y_pred = clf.predict(x_test)\n",
    "acc = metrics.accuracy_score(y_test, y_pred) #1번째 실제결과, 2번째 예측결과"
   ]
  },
  {
   "cell_type": "code",
   "execution_count": 5,
   "metadata": {
    "scrolled": true
   },
   "outputs": [
    {
     "data": {
      "text/plain": [
       "0.9385964912280702"
      ]
     },
     "execution_count": 5,
     "metadata": {},
     "output_type": "execute_result"
    }
   ],
   "source": [
    "#KNN과 비교\n",
    "clf = KNeighborsClassifier(n_neighbors=9)\n",
    "clf.fit(x_train, y_train)\n",
    "\n",
    "y_pred = clf.predict(x_test)\n",
    "acc = metrics.accuracy_score(y_test, y_pred) #1번째 실제결과, 2번째 예측결과\n",
    "#93% 나왔으니 SVM>KNN이넹!!!"
   ]
  },
  {
   "cell_type": "markdown",
   "metadata": {},
   "source": [
    "# K Means"
   ]
  },
  {
   "cell_type": "code",
   "execution_count": null,
   "metadata": {},
   "outputs": [],
   "source": [
    "# k mean은 일일이 해줘야될 필요가 있다. digit이 얼마인지 각각 입력해줘야함\n",
    "# average를 통해 클러스터의 중심을 설정!!\n",
    "# 클러스터 중심에 따라 가까운 데이터가 바꼈을수도 있으니 그럴경우 속성을 바꿔줌\n",
    "# 변화가 없을때까지 반복!!!\n",
    "import sklearn\n",
    "from sklearn.preprocessing import scale\n",
    "from sklearn.datasets import load_digits\n",
    "from sklearn.cluster import KMeans\n",
    "from sklearn import metrics\n",
    "\n",
    "digits = load_digits()\n",
    "data = scale(digits.data) #all of our feature scale down -1, 1로 바꿔줌\n",
    "y = digits.targets\n",
    "\n",
    "k = 10 # 10digits\n",
    "samples, features = data.shape #(121, 232)이런거처럼\n",
    "\n",
    "def bench_k_means(estimator, name, data):\n",
    "    estimator.fit(data)\n",
    "    print('%-9s\\t%i\\t%.3f\\t%.3f\\t%.3f\\t%.3f\\t%.3f\\t%.3f'\n",
    "          % (name, estimator.inertia_,metrics.homogeneity_score(y, estimator.labels_),\n",
    "             metrics.completeness_score(y, estimator.labels_),\n",
    "             metrics.v_measure_score(y, estimator.labels_),\n",
    "             metrics.adjusted_rand_score(y, estimator.labels_),\n",
    "             metrics.adjusted_mutual_info_score(y,  estimator.labels_),\n",
    "             metrics.silhouette_score(data, estimator.labels_,\n",
    "                                      metric='euclidean')))\n",
    "\n",
    "#test data를 따로 나눠서 줄 필요없음\n",
    "clf = KMeans(n_cluster=k, init=\"random\", n_init=10) #centroid, 클러스터설정, 반복\n",
    "bench_k_means(clf, \"1\", data)"
   ]
  },
  {
   "cell_type": "code",
   "execution_count": null,
   "metadata": {},
   "outputs": [],
   "source": []
  }
 ],
 "metadata": {
  "kernelspec": {
   "display_name": "Python 3",
   "language": "python",
   "name": "python3"
  },
  "language_info": {
   "codemirror_mode": {
    "name": "ipython",
    "version": 3
   },
   "file_extension": ".py",
   "mimetype": "text/x-python",
   "name": "python",
   "nbconvert_exporter": "python",
   "pygments_lexer": "ipython3",
   "version": "3.7.3"
  }
 },
 "nbformat": 4,
 "nbformat_minor": 2
}
